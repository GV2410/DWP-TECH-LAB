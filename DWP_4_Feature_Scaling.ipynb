{
  "nbformat": 4,
  "nbformat_minor": 0,
  "metadata": {
    "colab": {
      "provenance": [],
      "authorship_tag": "ABX9TyNLF2WqX4zU8De73sN4fQJV",
      "include_colab_link": true
    },
    "kernelspec": {
      "name": "python3",
      "display_name": "Python 3"
    },
    "language_info": {
      "name": "python"
    }
  },
  "cells": [
    {
      "cell_type": "markdown",
      "metadata": {
        "id": "view-in-github",
        "colab_type": "text"
      },
      "source": [
        "<a href=\"https://colab.research.google.com/github/GV2410/DWP-TECH-LAB/blob/main/DWP_4_Feature_Scaling.ipynb\" target=\"_parent\"><img src=\"https://colab.research.google.com/assets/colab-badge.svg\" alt=\"Open In Colab\"/></a>"
      ]
    },
    {
      "cell_type": "markdown",
      "source": [
        "Normalization - Normalization rescales the data to a fixed range, usually [0, 1]. It is typically done by subtracting the minimum value of the feature and dividing by the range of the feature (max - min).\n",
        "\n",
        "Formula : -\n",
        "\n",
        "![Screenshot 2025-01-25 095141.png](data:image/png;base64,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)"
      ],
      "metadata": {
        "id": "9e7lalFLr8lg"
      }
    },
    {
      "cell_type": "markdown",
      "source": [
        "Standardization transforms the data to have a mean of 0 and a standard deviation of 1. This is useful when your data follows a Gaussian distribution or when your algorithm assumes that the data is centered around 0 and has a similar variance.\n",
        "\n",
        "Formula : -  \n",
        "![Screenshot 2025-01-25 095813.png](data:image/png;base64,iVBORw0KGgoAAAANSUhEUgAAALwAAABcCAYAAADUDd8pAAAAAXNSR0IArs4c6QAAAARnQU1BAACxjwv8YQUAAAAJcEhZcwAADsMAAA7DAcdvqGQAAAgTSURBVHhe7d1/TJvHHQbwZ1P+8JQaJ4sIk5qOqcvqrmWgdQ1M2YalQhxtA1aVhGqDoS0kSBlJKxVY1UUsG4RVS1jFbDKNZGgby1qVH38EtrCwSI2JVA0ztSWoGQY1wl2R7GqVMEqEoyLdzvgIBmxit9DX+J6P5Nh3r6P4lZ739ffuvdf5lJBApIlPq2ciLTDwpBUGnrTCwJNWGHjSCgNPWmHgSSsMPGmFgSetMPCkFQaetMLAk1YYeNIKA09aYeBJKww8aYWBJ60w8KQVBp60wsCTVhh40goDT1ph4EkrDDxphYEnrTDw9zIfRCAQVI0UlOr7twIDv5Z5DzqfrkCn36Q6UtCWOxh+YR+ODQRUR2pj4GMKYvCZInQXn8Xxh1RXpOlOHHggDWlpEY/PfglNI+HNrvqdy7ftrEC3P7wtuVhgd7Qho6EIzgnVlcpCP6ZKUbxeK3Y92ijGVTOmtxtFltkszNtrxOUPVd+CGfHn75pFwamrwjenupKZq1ak5znElGqmKgY+Kp9of0KG9fc+1V5L+L1mc7qodakuaby1QBS03vNwSSLjovFRsyjv3gxH50fHkiaam104P2JD5ZMZqmMtGag8WiKfgzjX3i3/BDy/LUTFew3ofda68I7NwYqSgxno6+5f2IdUxcBH4R8ahOehfOTFk3fJ9OQRVIfGtf3tcLZXoeLtn+LKGZusjg027cbgjZWD0dizMjl79wMD/8DgvOpIQQx8FKOvu4DHcuQ5L05bbPhhTejocKPpjw/jwu/sxocdXjhLC3GgRe5LBE/zHjyQ1SQ/aRRftMp9vg7PTdVOQQz8Kl54rstC5f44T+9KTr48O4bckmfPLeGXhrrthuuG/Fxfy1EdIV4MDnqBfXnIVT3LPGhFNjwYf0e1UxADH8O2bdvUqzhMd6Oi3gvbI/L1u06cHwp3JyQYgN/vj+/xQRxV9pAsTeT4wr43U3VIoYPgTcCWn6c6ogvcTt0qnv/H0yqyFPj6V9D5/TGMPBsRllgCg6gqeBXfu9wB+2sV2HmoDyjuwPt/PYhELlf5/3kGTf3y7BuXXBxxVCLy3L2Su34nCtvL0DPbBrvqw0AV0p4eQr1rEg1fVX3LyH1JO4CJF8dwrSaOfd+MFuZqKMKUcOSZxeOtccxIfzguHE8UCIdnsX1V1KaHpigLRPt7qs8Q4X0wl3WJyEnGt36xW362GnFZtVe7LA6ZzeLQJdVMQSxpVsnA5+TJzePxqHYM8x4491fAe7J36UqsHLweWfhWcMP5p3v8/Y3kd2FQ1u/W3OyIbxkvhgb8wLdtyIcfneV1WD6clW4HEJrT+UwyjEE2CAO/igmZn5cxedcnYxFdUAYqNAPS9VQPWvKXz8dYv1MmDxkZr1e6MGrU9N4broUwz4QG0EpgoBGnFw+C6Yvo3mqHTW27a3pKHhY2yLekLnWmp0iXDglzeq0YVs1FvlfKxa7toZJl8ZEuai4tFQ1T54tE+t1t4e27v3FavKW2f1KG69LD//72LFHe6hCNZd8URaeuiq6ju4Q5v0b87KlS4XhHvTnCXHepMKf48gIGPppbXaLcvFs0vqHam0pE/T43I3w+n5i5pTZJc/9b3l4yJ7p+YBZZpzbTcojEsaSJZutB1Nea4PzLqio3+an6PSc/FyaTBRkZGbBsVdsk047l7bsC/Xh1wI6fH9tMyyESx8DHkFP3G5T1t6BzWnVsFgv1+4r59ziMtp6G/2QzDhp/iXhDMfCxyEFd29/t6Kx0wrOJ1pZ4b04AljLsjzrPHsObTTg8VIk/1KT22T0kKS48BSfk17DvC7DnZ4an0abdGEUucu5f2GyowEgTnhsqQUftWpd5kkzoAI13ajHoQtNPvCg7VwlrCk9HLjI48EG4X9iDwrPhK4yW4jZceSkHfdXnkfNyG+zRak2ij8HYwN9oQmFzJs6+tB/b7vgwOuhA7XMTqP73tei31SmBnio83pDIgpV8/OpfHSlfn9K9Jc9amvkA+p6pwuiPO9Cwx5hkhu49pSWzs7PqVepIjsDP+9FdVYOp5y+g/pFEllwRJcb4wAc9cFY1wXLyAirXKGOWCS2lTei3VEyw7LDApMGgjNZmbOBl2M+UO2E914aSHapv3o26UheOX6xHzJnkaTf63D7ViIcFVrsNVg6CtWdc4EOrDQv24MR/MmErKoHdnicD7sXFlia8f2wM/T9K7I4jongYFvjRXxbC8VgvOooBd3MpCn8dvssy9/kr6D2RmwT3hFIqMizwQVmDmyxLA9RgwI87W2Ks8yBaJ8YPWok+QVxLQ1ph4EkrLGmSTGgss/oSA68jrBcGPkkERpyoqTyBvhjr7yt7Z9G2TzXoI2NJkwQCA1XIKjiNQEUPRiYnMfa3+oXfnLEc7sGkbE9O/hctDPu64BneaNOdKP7yMcAxuexi22B1Gg54mjHmOh77ijMljGd4g7lb6+AyVaOuIvLKcugXfuXTnXCL1g8Dbygvhq/JEWpRPmzLBqTXMfyaHKp+K7TcgtYTA58ErDkrbh8c6kJn0IqGo1F/45c+BgbeUJnI3muC1zul2lLox1nLzyH7xQs4/qDqo3XDQavRAi6cKDiM4ez9ePg+H0aHZmA/04uGfVw+txEY+CQR/MCPACzI2ME7vjYSA09aYQ1PWmHgSSsMPGmFgSetMPCkFQaetMLAk1YYeNIKA09aYeBJKww8aYWBJ60w8KQVBp60wsCTVhh40goDT1ph4EkrDDxphYEnrTDwpBUGnrTCwJNGgP8D92BaCUcVJ1QAAAAASUVORK5CYII=)"
      ],
      "metadata": {
        "id": "jHLVVcKhsvW1"
      }
    },
    {
      "cell_type": "markdown",
      "source": [
        "**If our data is not normally distributed the nwe use Normalization and if our data follows normalization then we use Standardization.**\n"
      ],
      "metadata": {
        "id": "GYhk7brQuhSz"
      }
    },
    {
      "cell_type": "code",
      "source": [
        "\n",
        "import pandas as pd\n",
        "\n",
        "# Read the CSV file from the URL\n",
        "url = \"https://raw.githubusercontent.com/selva86/datasets/refs/heads/master/BostonHousing.csv\"\n",
        "df = pd.read_csv(url)\n",
        "\n",
        "# Get the number of rows and columns\n",
        "rows, columns = df.shape\n",
        "\n",
        "print(f\"Number of rows: {rows}\")\n",
        "print(f\"Number of columns: {columns}\")"
      ],
      "metadata": {
        "colab": {
          "base_uri": "https://localhost:8080/"
        },
        "id": "5xR9cDdLt-CK",
        "outputId": "837fe280-ee9c-4179-d804-c77ad2be3ce7"
      },
      "execution_count": null,
      "outputs": [
        {
          "output_type": "stream",
          "name": "stdout",
          "text": [
            "Number of rows: 506\n",
            "Number of columns: 14\n"
          ]
        }
      ]
    },
    {
      "cell_type": "code",
      "source": [
        "import pandas as pd\n",
        "from sklearn.preprocessing import MinMaxScaler, StandardScaler\n",
        "\n",
        "# Read the CSV file from the URL\n",
        "url = \"https://raw.githubusercontent.com/selva86/datasets/refs/heads/master/BostonHousing.csv\"\n",
        "df = pd.read_csv(url)\n",
        "\n",
        "# Select numerical features for scaling (exclude the target variable 'medv')\n",
        "numerical_features = df.drop('medv', axis=1)\n",
        "\n",
        "# Min-Max Scaling\n",
        "scaler = MinMaxScaler()\n",
        "df_minmax = scaler.fit_transform(numerical_features)\n",
        "df_minmax = pd.DataFrame(df_minmax, columns=numerical_features.columns)\n",
        "\n",
        "# Normalization - Using MinMaxScaler for normalization as well\n",
        "scaler = MinMaxScaler() # Changed 'scalar' to 'scaler' and using MinMaxScaler for normalization\n",
        "df_normalized = scaler.fit_transform(numerical_features)\n",
        "df_normalized = pd.DataFrame(df_normalized, columns=numerical_features.columns)\n",
        "\n",
        "\n",
        "# Standardization\n",
        "scaler = StandardScaler()\n",
        "df_standardized = scaler.fit_transform(numerical_features)\n",
        "df_standardized = pd.DataFrame(df_standardized, columns=numerical_features.columns)\n",
        "\n",
        "print(\"Min-Max Scaled Data:\")\n",
        "print(df_minmax.head())\n",
        "\n",
        "print(\"\\nNormalized Data:\")\n",
        "print(df_normalized.head())\n",
        "\n",
        "print(\"\\nStandardized Data:\")\n",
        "print(df_standardized.head())"
      ],
      "metadata": {
        "colab": {
          "base_uri": "https://localhost:8080/"
        },
        "id": "F1ZREG_ywogW",
        "outputId": "49858a40-bbd2-4cd9-baea-e95fcaf9ed35"
      },
      "execution_count": null,
      "outputs": [
        {
          "output_type": "stream",
          "name": "stdout",
          "text": [
            "Min-Max Scaled Data:\n",
            "       crim    zn     indus  chas       nox        rm       age       dis  \\\n",
            "0  0.000000  0.18  0.067815   0.0  0.314815  0.577505  0.641607  0.269203   \n",
            "1  0.000236  0.00  0.242302   0.0  0.172840  0.547998  0.782698  0.348962   \n",
            "2  0.000236  0.00  0.242302   0.0  0.172840  0.694386  0.599382  0.348962   \n",
            "3  0.000293  0.00  0.063050   0.0  0.150206  0.658555  0.441813  0.448545   \n",
            "4  0.000705  0.00  0.063050   0.0  0.150206  0.687105  0.528321  0.448545   \n",
            "\n",
            "        rad       tax   ptratio         b     lstat  \n",
            "0  0.000000  0.208015  0.287234  1.000000  0.089680  \n",
            "1  0.043478  0.104962  0.553191  1.000000  0.204470  \n",
            "2  0.043478  0.104962  0.553191  0.989737  0.063466  \n",
            "3  0.086957  0.066794  0.648936  0.994276  0.033389  \n",
            "4  0.086957  0.066794  0.648936  1.000000  0.099338  \n",
            "\n",
            "Normalized Data:\n",
            "       crim    zn     indus  chas       nox        rm       age       dis  \\\n",
            "0  0.000000  0.18  0.067815   0.0  0.314815  0.577505  0.641607  0.269203   \n",
            "1  0.000236  0.00  0.242302   0.0  0.172840  0.547998  0.782698  0.348962   \n",
            "2  0.000236  0.00  0.242302   0.0  0.172840  0.694386  0.599382  0.348962   \n",
            "3  0.000293  0.00  0.063050   0.0  0.150206  0.658555  0.441813  0.448545   \n",
            "4  0.000705  0.00  0.063050   0.0  0.150206  0.687105  0.528321  0.448545   \n",
            "\n",
            "        rad       tax   ptratio         b     lstat  \n",
            "0  0.000000  0.208015  0.287234  1.000000  0.089680  \n",
            "1  0.043478  0.104962  0.553191  1.000000  0.204470  \n",
            "2  0.043478  0.104962  0.553191  0.989737  0.063466  \n",
            "3  0.086957  0.066794  0.648936  0.994276  0.033389  \n",
            "4  0.086957  0.066794  0.648936  1.000000  0.099338  \n",
            "\n",
            "Standardized Data:\n",
            "       crim        zn     indus      chas       nox        rm       age  \\\n",
            "0 -0.419782  0.284830 -1.287909 -0.272599 -0.144217  0.413672 -0.120013   \n",
            "1 -0.417339 -0.487722 -0.593381 -0.272599 -0.740262  0.194274  0.367166   \n",
            "2 -0.417342 -0.487722 -0.593381 -0.272599 -0.740262  1.282714 -0.265812   \n",
            "3 -0.416750 -0.487722 -1.306878 -0.272599 -0.835284  1.016303 -0.809889   \n",
            "4 -0.412482 -0.487722 -1.306878 -0.272599 -0.835284  1.228577 -0.511180   \n",
            "\n",
            "        dis       rad       tax   ptratio         b     lstat  \n",
            "0  0.140214 -0.982843 -0.666608 -1.459000  0.441052 -1.075562  \n",
            "1  0.557160 -0.867883 -0.987329 -0.303094  0.441052 -0.492439  \n",
            "2  0.557160 -0.867883 -0.987329 -0.303094  0.396427 -1.208727  \n",
            "3  1.077737 -0.752922 -1.106115  0.113032  0.416163 -1.361517  \n",
            "4  1.077737 -0.752922 -1.106115  0.113032  0.441052 -1.026501  \n"
          ]
        }
      ]
    },
    {
      "cell_type": "code",
      "source": [
        "\n",
        "import pandas as pd\n",
        "from sklearn.preprocessing import MinMaxScaler, StandardScaler\n",
        "\n",
        "# Assuming 'numerical_features' DataFrame is already defined from the previous code\n",
        "\n",
        "# Standardization\n",
        "scaler = StandardScaler()\n",
        "df_standardized = scaler.fit_transform(numerical_features)\n",
        "df_standardized = pd.DataFrame(df_standardized, columns=numerical_features.columns)\n",
        "\n",
        "print(\"\\nStandardized Data:\")\n",
        "print(df_standardized.head())"
      ],
      "metadata": {
        "colab": {
          "base_uri": "https://localhost:8080/"
        },
        "id": "FualFfkwxa3e",
        "outputId": "36aad2f8-0e57-4e2c-8da2-d3369201d1f8"
      },
      "execution_count": null,
      "outputs": [
        {
          "output_type": "stream",
          "name": "stdout",
          "text": [
            "\n",
            "Standardized Data:\n",
            "       crim        zn     indus      chas       nox        rm       age  \\\n",
            "0 -0.419782  0.284830 -1.287909 -0.272599 -0.144217  0.413672 -0.120013   \n",
            "1 -0.417339 -0.487722 -0.593381 -0.272599 -0.740262  0.194274  0.367166   \n",
            "2 -0.417342 -0.487722 -0.593381 -0.272599 -0.740262  1.282714 -0.265812   \n",
            "3 -0.416750 -0.487722 -1.306878 -0.272599 -0.835284  1.016303 -0.809889   \n",
            "4 -0.412482 -0.487722 -1.306878 -0.272599 -0.835284  1.228577 -0.511180   \n",
            "\n",
            "        dis       rad       tax   ptratio         b     lstat  \n",
            "0  0.140214 -0.982843 -0.666608 -1.459000  0.441052 -1.075562  \n",
            "1  0.557160 -0.867883 -0.987329 -0.303094  0.441052 -0.492439  \n",
            "2  0.557160 -0.867883 -0.987329 -0.303094  0.396427 -1.208727  \n",
            "3  1.077737 -0.752922 -1.106115  0.113032  0.416163 -1.361517  \n",
            "4  1.077737 -0.752922 -1.106115  0.113032  0.441052 -1.026501  \n"
          ]
        }
      ]
    },
    {
      "cell_type": "markdown",
      "source": [
        "**Mean Normalization**\n",
        "**Mean normalization is a technique used to scale data such that it has a mean of 0 and a specific range, typically [-1, 1]. This technique is useful when you want to center the data around zero without changing its variance significantly**\n",
        "\n",
        "Formula : -  \n",
        "\n",
        "![Screenshot 2025-01-25 102312.png](data:image/png;base64,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)"
      ],
      "metadata": {
        "id": "lyUAIF0Qu0nD"
      }
    },
    {
      "cell_type": "code",
      "source": [
        "\n",
        "import pandas as pd\n",
        "from sklearn.preprocessing import MinMaxScaler, StandardScaler\n",
        "# Mean Normalization\n",
        "def mean_normalize(data):\n",
        "  return (data - data.mean()) / (data.max() - data.min())\n",
        "\n",
        "df_mean_normalized = numerical_features.apply(mean_normalize)\n",
        "print(\"\\nMean Normalized Data:\")\n",
        "print(df_mean_normalized.head())\n",
        "\n",
        "\n",
        "# Maximum Absolute Scaling\n",
        "def max_abs_scale(data):\n",
        "  return data / data.abs().max()\n",
        "\n",
        "df_max_abs_scaled = numerical_features.apply(max_abs_scale)\n",
        "print(\"\\nMax Absolute Scaled Data:\")\n",
        "print(df_max_abs_scaled.head())"
      ],
      "metadata": {
        "colab": {
          "base_uri": "https://localhost:8080/"
        },
        "id": "ulOSRKgLzrHH",
        "outputId": "6a9b5a48-2ded-4fd0-8cfd-b7d7dd96ff1b"
      },
      "execution_count": null,
      "outputs": [
        {
          "output_type": "stream",
          "name": "stdout",
          "text": [
            "\n",
            "Mean Normalized Data:\n",
            "       crim        zn     indus     chas       nox        rm       age  \\\n",
            "0 -0.040544  0.066364 -0.323562 -0.06917 -0.034352  0.055636 -0.034757   \n",
            "1 -0.040308 -0.113636 -0.149075 -0.06917 -0.176327  0.026129  0.106335   \n",
            "2 -0.040308 -0.113636 -0.149075 -0.06917 -0.176327  0.172517 -0.076981   \n",
            "3 -0.040251 -0.113636 -0.328328 -0.06917 -0.198961  0.136686 -0.234551   \n",
            "4 -0.039839 -0.113636 -0.328328 -0.06917 -0.198961  0.165236 -0.148042   \n",
            "\n",
            "        dis       rad       tax   ptratio         b     lstat  \n",
            "0  0.026822 -0.371713 -0.214193 -0.335695  0.101432 -0.211729  \n",
            "1  0.106581 -0.328235 -0.317246 -0.069738  0.101432 -0.096939  \n",
            "2  0.106581 -0.328235 -0.317246 -0.069738  0.091169 -0.237943  \n",
            "3  0.206163 -0.284757 -0.355414  0.026007  0.095708 -0.268021  \n",
            "4  0.206163 -0.284757 -0.355414  0.026007  0.101432 -0.202071  \n",
            "\n",
            "Max Absolute Scaled Data:\n",
            "       crim    zn     indus  chas       nox        rm    age       dis  \\\n",
            "0  0.000071  0.18  0.083273   0.0  0.617681  0.748861  0.652  0.337278   \n",
            "1  0.000307  0.00  0.254867   0.0  0.538462  0.731321  0.789  0.409607   \n",
            "2  0.000307  0.00  0.254867   0.0  0.538462  0.818337  0.611  0.409607   \n",
            "3  0.000364  0.00  0.078587   0.0  0.525832  0.797039  0.458  0.499913   \n",
            "4  0.000776  0.00  0.078587   0.0  0.525832  0.814009  0.542  0.499913   \n",
            "\n",
            "        rad       tax   ptratio         b     lstat  \n",
            "0  0.041667  0.416315  0.695455  1.000000  0.131156  \n",
            "1  0.083333  0.340366  0.809091  1.000000  0.240716  \n",
            "2  0.083333  0.340366  0.809091  0.989746  0.106136  \n",
            "3  0.125000  0.312236  0.850000  0.994281  0.077430  \n",
            "4  0.125000  0.312236  0.850000  1.000000  0.140374  \n"
          ]
        }
      ]
    },
    {
      "cell_type": "markdown",
      "source": [
        "Maximum Absolute Scaler\n",
        "**The Maximum Absolute Scaler is another technique used for scaling data, where each feature is scaled by its maximum absolute value. This method is particularly useful when you want to scale the features to a range of [-1, 1] without affecting the sparsity of the dataset.**\n",
        "\n",
        "Formula : -  \n",
        "![Screenshot 2025-01-25 102825.png](data:image/png;base64,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)"
      ],
      "metadata": {
        "id": "Eb31GMy7z_hQ"
      }
    },
    {
      "cell_type": "markdown",
      "source": [
        "\n",
        "**Median and Quantile Scaling are both techniques used to scale data based on the median and quantiles (i.e., percentiles), which are less sensitive to outliers than methods like mean normalization or Min-Max scaling. These methods are particularly useful when your data has outliers or is skewed.**\n",
        "\n",
        "1. Median Scaling\n",
        "**Median scaling involves scaling the data based on the median of the feature values. The median is the middle value of a dataset when sorted, and it is less sensitive to outliers than the mean. The goal of median scaling is to center the data around the median, especially when your data is not symmetrically distributed.**\n",
        "\n",
        "Formula : -  \n",
        "![Screenshot 2025-01-25 103045.png](data:image/png;base64,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)"
      ],
      "metadata": {
        "id": "KNcv9aC41Nqh"
      }
    },
    {
      "cell_type": "code",
      "source": [
        "\n",
        "def median_scale(data):\n",
        "    return (data - data.median()) / data.std()\n",
        "\n",
        "df_median_scaled = numerical_features.apply(median_scale)\n",
        "print(\"\\nMedian Scaled Data:\")\n",
        "print(df_median_scaled.head())"
      ],
      "metadata": {
        "colab": {
          "base_uri": "https://localhost:8080/"
        },
        "id": "uEbaAGWP03iW",
        "outputId": "ba9d8eae-c79b-4ee4-a751-2ebf278cbdeb"
      },
      "execution_count": null,
      "outputs": [
        {
          "output_type": "stream",
          "name": "stdout",
          "text": [
            "\n",
            "Median Scaled Data:\n",
            "       crim        zn     indus  chas       nox        rm       age       dis  \\\n",
            "0 -0.029087  0.771788 -1.075746   0.0  0.000000  0.521621 -0.436963  0.419122   \n",
            "1 -0.026646  0.000000 -0.381905   0.0 -0.595456  0.302441  0.049736  0.835656   \n",
            "2 -0.026649  0.000000 -0.381905   0.0 -0.595456  1.389804 -0.582617  0.835656   \n",
            "3 -0.026058  0.000000 -1.094696   0.0 -0.690383  1.123656 -1.126156  1.355718   \n",
            "4 -0.021794  0.000000 -1.094696   0.0 -0.690383  1.335720 -0.827742  1.355718   \n",
            "\n",
            "        rad       tax   ptratio         b     lstat  \n",
            "0 -0.459387 -0.201736 -1.732145  0.059806 -0.893425  \n",
            "1 -0.344540 -0.522140 -0.577382  0.059806 -0.310878  \n",
            "2 -0.344540 -0.522140 -0.577382  0.015225 -1.026458  \n",
            "3 -0.229693 -0.640808 -0.161667  0.034942 -1.179096  \n",
            "4 -0.229693 -0.640808 -0.161667  0.059806 -0.844412  \n"
          ]
        }
      ]
    },
    {
      "cell_type": "markdown",
      "source": [
        "**The Robust Scaler is a scaling technique that uses median and interquartile range (IQR) to scale features, making it robust to outliers. Unlike standard scaling methods like Min-Max scaling or Standardization (Z-score scaling), which are influenced by extreme values, the Robust Scaler is designed to be more resilient when the data contains outliers.**\n",
        "\n",
        "Formula : -  \n",
        "![Screenshot 2025-01-25 103325.png](data:image/png;base64,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)"
      ],
      "metadata": {
        "id": "Z43mm97O10MJ"
      }
    },
    {
      "cell_type": "code",
      "source": [
        "\n",
        "import pandas as pd\n",
        "from sklearn.preprocessing import RobustScaler\n",
        "\n",
        "# Robust Scaling\n",
        "scaler = RobustScaler()\n",
        "df_robust_scaled = scaler.fit_transform(numerical_features)\n",
        "df_robust_scaled = pd.DataFrame(df_robust_scaled, columns=numerical_features.columns)\n",
        "\n",
        "print(\"\\nRobust Scaled Data:\")\n",
        "print(df_robust_scaled.head())"
      ],
      "metadata": {
        "colab": {
          "base_uri": "https://localhost:8080/"
        },
        "id": "WouQDc0J1sxd",
        "outputId": "84e5360e-e424-4438-c012-5464ff85e9e1"
      },
      "execution_count": null,
      "outputs": [
        {
          "output_type": "stream",
          "name": "stdout",
          "text": [
            "\n",
            "Robust Scaled Data:\n",
            "       crim    zn     indus  chas       nox        rm       age       dis  \\\n",
            "0 -0.069593  1.44 -0.571650   0.0  0.000000  0.496612 -0.250765  0.285777   \n",
            "1 -0.063755  0.00 -0.202943   0.0 -0.394286  0.287940  0.028542  0.569789   \n",
            "2 -0.063760  0.00 -0.202943   0.0 -0.394286  1.323171 -0.334353  0.569789   \n",
            "3 -0.062347  0.00 -0.581720   0.0 -0.457143  1.069783 -0.646279  0.924391   \n",
            "4 -0.052144  0.00 -0.581720   0.0 -0.457143  1.271680 -0.475025  0.924391   \n",
            "\n",
            "    rad       tax   ptratio         b     lstat  \n",
            "0 -0.20 -0.087855 -1.339286  0.261902 -0.637681  \n",
            "1 -0.15 -0.227390 -0.446429  0.261902 -0.221889  \n",
            "2 -0.15 -0.227390 -0.446429  0.066675 -0.732634  \n",
            "3 -0.10 -0.279070 -0.125000  0.153016 -0.841579  \n",
            "4 -0.10 -0.279070 -0.125000  0.261902 -0.602699  \n"
          ]
        }
      ]
    },
    {
      "cell_type": "markdown",
      "source": [
        "L2 Regularization (Ridge Regularization)\n",
        "**L2 regularization, also known as Ridge Regularization, is a technique used to reduce the complexity of a machine learning model by adding a penalty term to the loss function. This helps prevent overfitting, especially when the model has many features or the data is noisy.**\n",
        "This Penalty discourage large coefficents in the model\n",
        "Formula :-  \n",
        "![Screenshot 2025-01-25 103633.png](data:image/png;base64,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)"
      ],
      "metadata": {
        "id": "tLFRjxnc2mZi"
      }
    },
    {
      "cell_type": "markdown",
      "source": [
        "Vector unit length scaling using L2 Norm : -  \n"
      ],
      "metadata": {
        "id": "ke2lW2kt3D7g"
      }
    },
    {
      "cell_type": "code",
      "source": [
        "\n",
        "import pandas as pd\n",
        "from sklearn.preprocessing import Normalizer\n",
        "normalizer = Normalizer(norm='l2')\n",
        "df_normalized = normalizer.fit_transform(numerical_features)\n",
        "df_normalized = pd.DataFrame(df_normalized, columns=numerical_features.columns)\n",
        "print(\"\\nNormalized Data:\")\n",
        "print(df_normalized.head())"
      ],
      "metadata": {
        "colab": {
          "base_uri": "https://localhost:8080/"
        },
        "id": "RWqp3l6E303e",
        "outputId": "724f0f8a-d403-4ecf-ee3e-f7842e76741d"
      },
      "execution_count": null,
      "outputs": [
        {
          "output_type": "stream",
          "name": "stdout",
          "text": [
            "\n",
            "Normalized Data:\n",
            "       crim        zn     indus  chas       nox        rm       age       dis  \\\n",
            "0  0.000013  0.035997  0.004620   0.0  0.001076  0.013149  0.130388  0.008179   \n",
            "1  0.000058  0.000000  0.014977   0.0  0.000994  0.013602  0.167140  0.010522   \n",
            "2  0.000059  0.000000  0.015174   0.0  0.001007  0.015421  0.131140  0.010661   \n",
            "3  0.000071  0.000000  0.004785   0.0  0.001005  0.015360  0.100527  0.013306   \n",
            "4  0.000151  0.000000  0.004755   0.0  0.000999  0.015587  0.118209  0.013222   \n",
            "\n",
            "        rad       tax   ptratio         b     lstat  \n",
            "0  0.002000  0.591945  0.030597  0.793727  0.009959  \n",
            "1  0.004237  0.512648  0.037707  0.840785  0.019362  \n",
            "2  0.004293  0.519409  0.038204  0.843138  0.008650  \n",
            "3  0.006585  0.487268  0.041045  0.866174  0.006453  \n",
            "4  0.006543  0.484177  0.040784  0.865631  0.011625  \n"
          ]
        }
      ]
    }
  ]
}